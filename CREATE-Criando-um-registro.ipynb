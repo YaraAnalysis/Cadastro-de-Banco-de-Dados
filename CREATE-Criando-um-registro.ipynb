{
 "cells": [
  {
   "cell_type": "code",
   "execution_count": 4,
   "id": "8c787573",
   "metadata": {},
   "outputs": [
    {
     "name": "stdout",
     "output_type": "stream",
     "text": [
      "Qual produto gostaria de incluir? pote sobremesa\n",
      "Qual a quantidade? 6000\n",
      "Qual a data de validade? ano-mês-dia 2028-10-05\n",
      "Qual o lote? 3\n",
      "Produto pote sobremesa foi adicionado com sucesso.\n"
     ]
    }
   ],
   "source": [
    "#CREATE - Criando um registro no estoque\n",
    "import pyodbc\n",
    "import pandas as pd\n",
    "\n",
    "dados_conexao = (\"Driver={SQLite3 ODBC Driver};Server=localhost;Database=Estoque.db\")\n",
    "\n",
    "conexao = pyodbc.connect(dados_conexao)\n",
    "\n",
    "cursor = conexao.cursor()\n",
    "\n",
    "produto = input('Qual produto gostaria de incluir? ')\n",
    "qtde = input('Qual a quantidade? ')\n",
    "validade = input('Qual a data de validade? ano-mês-dia ')\n",
    "lote = input('Qual o lote? ')\n",
    "\n",
    "if len(produto) < 1 or len(lote) < 1 or len(qtde) < 1:\n",
    "    print('Nome, quantidade e lote do produto inválidos.')\n",
    "\n",
    "cursor.execute(f'''\n",
    "INSERT INTO Estoque (Produto, Quantidade, DataValidade, Lote)\n",
    "VALUES\n",
    "(\"{produto}\", {qtde}, \"{validade}\", {lote})\n",
    "''')\n",
    "cursor.commit()\n",
    "print(f'Produto {produto} foi adicionado com sucesso.')\n",
    "\n",
    "cursor.close()\n",
    "conexao.close()"
   ]
  },
  {
   "cell_type": "code",
   "execution_count": null,
   "id": "8c19ebc2",
   "metadata": {},
   "outputs": [],
   "source": []
  },
  {
   "cell_type": "code",
   "execution_count": 3,
   "id": "eda9fb70",
   "metadata": {},
   "outputs": [],
   "source": []
  },
  {
   "cell_type": "code",
   "execution_count": null,
   "id": "20607bff",
   "metadata": {},
   "outputs": [],
   "source": []
  }
 ],
 "metadata": {
  "kernelspec": {
   "display_name": "Python 3 (ipykernel)",
   "language": "python",
   "name": "python3"
  },
  "language_info": {
   "codemirror_mode": {
    "name": "ipython",
    "version": 3
   },
   "file_extension": ".py",
   "mimetype": "text/x-python",
   "name": "python",
   "nbconvert_exporter": "python",
   "pygments_lexer": "ipython3",
   "version": "3.9.13"
  }
 },
 "nbformat": 4,
 "nbformat_minor": 5
}
