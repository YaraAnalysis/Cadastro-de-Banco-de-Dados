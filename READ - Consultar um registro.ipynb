{
 "cells": [
  {
   "cell_type": "code",
   "execution_count": 1,
   "id": "b144aafc",
   "metadata": {},
   "outputs": [
    {
     "name": "stdout",
     "output_type": "stream",
     "text": [
      "Qual produto gostaria de consultar?Copo\n",
      "\n",
      "    -----\n",
      "    Produto: Copo\n",
      "    Quantidade: 1300.0\n",
      "    Validade: 2050-12-30\n",
      "    Lote: 1\n",
      "    \n",
      "    -----\n",
      "    Produto: Copo\n",
      "    Quantidade: 3000.0\n",
      "    Validade: 2040-08-10\n",
      "    Lote: 2\n",
      "    \n",
      "    -----\n",
      "    Produto: Copo\n",
      "    Quantidade: 2500.0\n",
      "    Validade: 2030-10-15\n",
      "    Lote: 3\n",
      "    \n"
     ]
    }
   ],
   "source": [
    "#READ - Consultar um produto no estoque\n",
    "\n",
    "import pyodbc\n",
    "import pandas as pd\n",
    "\n",
    "dados_conexao = (\"Driver={SQLite3 ODBC Driver};Server=localhost;Database=Estoque.db\")\n",
    "conexao = pyodbc.connect(dados_conexao)\n",
    "cursor = conexao.cursor()\n",
    "\n",
    "produto = input('Qual produto gostaria de consultar?')\n",
    "\n",
    "if len(produto) < 1:\n",
    "    print('Nome do produto inválido.')\n",
    "\n",
    "cursor.execute(f'SELECT * FROM Estoque WHERE Produto=\"{produto}\"')\n",
    "valores = cursor.fetchall()\n",
    "\n",
    "texto = ''\n",
    "for id_produto, nome, qtde, validade, lote in valores:\n",
    "    texto = texto + f'''\n",
    "    -----\n",
    "    Produto: {produto}\n",
    "    Quantidade: {qtde}\n",
    "    Validade: {validade}\n",
    "    Lote: {lote}\n",
    "    '''\n",
    "print(texto)\n",
    "    \n",
    "texto = ''\n",
    "\n",
    "#print(f'O produto {produto} tem {} unidades em estoque.'.format(produto, 'x'))\n",
    "# imprimir que o produto x tem y quantidade em estoque.\n",
    "# display(tabela_estoque[produto])\n",
    "#else:\n",
    "#    print('O produto {} tem {} unidades em estoque.'.format(produto, 'x'))"
   ]
  },
  {
   "cell_type": "code",
   "execution_count": 2,
   "id": "c5c3810d",
   "metadata": {},
   "outputs": [],
   "source": [
    "cursor.close()\n",
    "conexao.close()"
   ]
  },
  {
   "cell_type": "code",
   "execution_count": null,
   "id": "fdfa97d8",
   "metadata": {},
   "outputs": [],
   "source": []
  }
 ],
 "metadata": {
  "kernelspec": {
   "display_name": "Python 3 (ipykernel)",
   "language": "python",
   "name": "python3"
  },
  "language_info": {
   "codemirror_mode": {
    "name": "ipython",
    "version": 3
   },
   "file_extension": ".py",
   "mimetype": "text/x-python",
   "name": "python",
   "nbconvert_exporter": "python",
   "pygments_lexer": "ipython3",
   "version": "3.9.13"
  }
 },
 "nbformat": 4,
 "nbformat_minor": 5
}
