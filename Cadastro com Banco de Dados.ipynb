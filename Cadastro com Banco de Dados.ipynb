{
 "cells": [
  {
   "cell_type": "code",
   "execution_count": null,
   "id": "4f3379b0",
   "metadata": {},
   "outputs": [
    {
     "name": "stdout",
     "output_type": "stream",
     "text": [
      "O que deseja fazer?\n",
      "N - NOVO produto\n",
      "C - CONSULTAR produto no estoque\n",
      "U - USAR algum produto do estoque\n",
      "D - DELETAR um produto do estoque\n",
      "I - IMPRIMIR relatório do estoque\n",
      "u\n",
      "USAR PRODUTO\n"
     ]
    }
   ],
   "source": [
    "#Projeto para Banco de Dados\n",
    "\n",
    "import pyodbc\n",
    "import pandas as pd\n",
    "#import CREATE-Criando-um-registro.ipynb\n",
    "#import DELETE - Deletando um registro.ipynb\n",
    "#import Imprimir a tabela de estoque.ipynb\n",
    "#import \"C:\\Users\\Leonardo\\Documents\\Projetos Git\\Python com SQL\\Cadastro-de-Banco-de-Dados\\Imprimir.ipynb\"\n",
    "#import(Imprimir.ipynb)\n",
    "\n",
    "dados_conexao = (\"Driver={SQLite3 ODBC Driver};Server=localhost;Database=Estoque.db\")\n",
    "conexao = pyodbc.connect(dados_conexao)\n",
    "cursor = conexao.cursor()\n",
    "\n",
    "escolha = input(f'O que deseja fazer?\\nN - NOVO produto\\nC - CONSULTAR produto no estoque\\nU - USAR algum produto do estoque\\nD - DELETAR um produto do estoque\\nI - IMPRIMIR relatório do estoque\\n')\n",
    "\n",
    "if escolha.upper() == 'N':\n",
    "    print('INCLUSÃO')\n",
    "    produto = input('Qual produto gostaria de incluir? ')\n",
    "    qtde = input('Qual a quantidade? ')\n",
    "    validade = input('Qual a data de validade? ano-mês-dia ')\n",
    "    lote = input('Qual o lote? ')\n",
    "    if len(produto) < 1 or len(lote) < 1 or len(qtde) < 1:\n",
    "        print('Nome, quantidade e lote do produto inválidos.')\n",
    "    cursor.execute(f'''\n",
    "    INSERT INTO Estoque (Produto, Quantidade, DataValidade, Lote)\n",
    "    VALUES\n",
    "    (\"{produto}\", {qtde}, \"{validade}\", {lote})\n",
    "    ''')\n",
    "    cursor.commit()\n",
    "    print(f'Produto {produto} foi adicionado com sucesso.')\n",
    "elif escolha.upper() == 'C':\n",
    "    print('CONSULTA')\n",
    "    produto = input('Qual produto gostaria de consultar?')\n",
    "    if len(produto) < 1:\n",
    "        print('Nome do produto inválido.')\n",
    "    cursor.execute(f'SELECT * FROM Estoque WHERE Produto=\"{produto}\"')\n",
    "    valores = cursor.fetchall()\n",
    "    texto = ''\n",
    "    for id_produto, nome, qtde, validade, lote in valores:\n",
    "        texto = texto + f'''\n",
    "        -----\n",
    "        Produto: {produto}\n",
    "        Quantidade: {qtde}\n",
    "        Validade: {validade}\n",
    "        Lote: {lote}\n",
    "        '''\n",
    "        print(texto)\n",
    "        texto = ''\n",
    "elif escolha.upper() == 'U':\n",
    "    print('USAR PRODUTO')\n",
    "    produto = input('Qual produto gostaria de consumir? ')\n",
    "    lote = input('Qual é o lote do produto? ')\n",
    "    qtde = input('Qual a quantidade? ')\n",
    "    if len(produto) < 1 or len(lote) < 1 or len(qtde) < 1:\n",
    "        print('Nome, quantidade e lote do produto inválido.')\n",
    "    else:\n",
    "        cursor.execute(f'''\n",
    "        UPDATE Estoque \n",
    "        SET Quantidade=Quantidade-{qtde} \n",
    "        WHERE Produto=\"{produto}\" AND Lote={lote}\n",
    "        ''')\n",
    "        cursor.commit()\n",
    "        print(f'Produto {produto} foi consumido em {qtde} unidades.')\n",
    "elif escolha.upper() == 'D':\n",
    "    print('DELETAR PRODUTO')\n",
    "elif escolha.upper() == 'I':\n",
    "    print('Imprimir relatório completo')\n",
    "    #imprimir.relatorio()\n",
    "    #from Imprimir import relatorio\n",
    "    #Imprimir.relatorio()\n",
    "else:\n",
    "    print('Escolha inválida')\n",
    "\n",
    "\n",
    "#cursor.close()\n",
    "#conexao.close()"
   ]
  },
  {
   "cell_type": "code",
   "execution_count": 10,
   "id": "ee1c0972",
   "metadata": {},
   "outputs": [],
   "source": [
    "cursor.close()\n",
    "conexao.close()"
   ]
  },
  {
   "cell_type": "code",
   "execution_count": null,
   "id": "a8673f50",
   "metadata": {},
   "outputs": [],
   "source": []
  }
 ],
 "metadata": {
  "kernelspec": {
   "display_name": "Python 3 (ipykernel)",
   "language": "python",
   "name": "python3"
  },
  "language_info": {
   "codemirror_mode": {
    "name": "ipython",
    "version": 3
   },
   "file_extension": ".py",
   "mimetype": "text/x-python",
   "name": "python",
   "nbconvert_exporter": "python",
   "pygments_lexer": "ipython3",
   "version": "3.9.13"
  }
 },
 "nbformat": 4,
 "nbformat_minor": 5
}
