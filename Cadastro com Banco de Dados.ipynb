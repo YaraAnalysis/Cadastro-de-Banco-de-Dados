{
 "cells": [
  {
   "cell_type": "code",
   "execution_count": 17,
   "id": "4f3379b0",
   "metadata": {},
   "outputs": [],
   "source": [
    "#Projeto para Banco de Dados\n",
    "\n",
    "import pyodbc\n",
    "import pandas as pd\n",
    "\n",
    "dados_conexao = (\"Driver={SQLite3 ODBC Driver};Server=localhost;Database=Estoque.db\")\n",
    "\n",
    "conexao = pyodbc.connect(dados_conexao)\n",
    "\n",
    "cursor = conexao.cursor()\n"
   ]
  },
  {
   "cell_type": "code",
   "execution_count": 18,
   "id": "2c1fb9cf",
   "metadata": {},
   "outputs": [
    {
     "name": "stdout",
     "output_type": "stream",
     "text": [
      "-------CONTROLE DE ESTOQUE-------\n"
     ]
    }
   ],
   "source": [
    "print('-------CONTROLE DE ESTOQUE-------')"
   ]
  },
  {
   "cell_type": "code",
   "execution_count": 29,
   "id": "a24f1157",
   "metadata": {},
   "outputs": [
    {
     "name": "stdout",
     "output_type": "stream",
     "text": [
      "O que deseja fazer?\n",
      "I - incluir produto\n",
      "C - consultar produto no estoque\n",
      "U - usar algum procuto do estoque\n",
      "D - deletar um produto do estoque\n",
      "u\n"
     ]
    }
   ],
   "source": [
    "escolha = input(f'O que deseja fazer?\\nI - incluir produto\\nC - consultar produto no estoque\\nU - usar algum procuto do estoque\\nD - deletar um produto do estoque\\n')"
   ]
  },
  {
   "cell_type": "code",
   "execution_count": 20,
   "id": "bb8d36f0",
   "metadata": {},
   "outputs": [
    {
     "name": "stdout",
     "output_type": "stream",
     "text": [
      "DELETAR PRODUTO\n"
     ]
    }
   ],
   "source": [
    "if escolha.upper() == 'I':\n",
    "    print('INCLUSÃO')\n",
    "elif escolha.upper() == 'C':\n",
    "    print('CONSULTA')\n",
    "elif escolha.upper() == 'U':\n",
    "    print('USAR PRODUTO')\n",
    "elif escolha.upper() == 'D':\n",
    "    print('DELETAR PRODUTO')\n",
    "else:\n",
    "    print('Escolha inválida')"
   ]
  },
  {
   "cell_type": "code",
   "execution_count": 21,
   "id": "28bc0728",
   "metadata": {},
   "outputs": [],
   "source": [
    "cursor.close()\n",
    "conexao.close()"
   ]
  },
  {
   "cell_type": "code",
   "execution_count": null,
   "id": "2f114a16",
   "metadata": {},
   "outputs": [],
   "source": []
  }
 ],
 "metadata": {
  "kernelspec": {
   "display_name": "Python 3 (ipykernel)",
   "language": "python",
   "name": "python3"
  },
  "language_info": {
   "codemirror_mode": {
    "name": "ipython",
    "version": 3
   },
   "file_extension": ".py",
   "mimetype": "text/x-python",
   "name": "python",
   "nbconvert_exporter": "python",
   "pygments_lexer": "ipython3",
   "version": "3.9.13"
  }
 },
 "nbformat": 4,
 "nbformat_minor": 5
}
