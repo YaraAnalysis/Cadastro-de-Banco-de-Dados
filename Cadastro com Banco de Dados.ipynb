{
 "cells": [
  {
   "cell_type": "code",
   "execution_count": 30,
   "id": "4f3379b0",
   "metadata": {},
   "outputs": [],
   "source": [
    "#Projeto para Banco de Dados\n",
    "\n",
    "import pyodbc\n",
    "import pandas as pd\n",
    "\n",
    "dados_conexao = (\"Driver={SQLite3 ODBC Driver};Server=localhost;Database=Estoque.db\")\n",
    "\n",
    "conexao = pyodbc.connect(dados_conexao)\n",
    "\n",
    "cursor = conexao.cursor()\n"
   ]
  },
  {
   "cell_type": "code",
   "execution_count": 31,
   "id": "c35e6bf5",
   "metadata": {},
   "outputs": [
    {
     "name": "stdout",
     "output_type": "stream",
     "text": [
      "-------CONTROLE DE ESTOQUE-------\n"
     ]
    }
   ],
   "source": [
    "print('-------CONTROLE DE ESTOQUE-------')"
   ]
  },
  {
   "cell_type": "code",
   "execution_count": 34,
   "id": "e908d87c",
   "metadata": {},
   "outputs": [
    {
     "name": "stdout",
     "output_type": "stream",
     "text": [
      "O que deseja fazer?\n",
      "N - NOVO produto\n",
      "C - CONSULTAR produto no estoque\n",
      "U - USAR algum proDuto do estoque\n",
      "D - DELETAR um produto do estoque\n",
      "I - IMPRIMIR Relatório\n",
      "i\n"
     ]
    }
   ],
   "source": [
    "escolha = input(f'O que deseja fazer?\\nN - NOVO produto\\nC - CONSULTAR produto no estoque\\nU - USAR algum produto do estoque\\nD - DELETAR um produto do estoque\\nI - IMPRIMIR relatório do estoque\\n')"
   ]
  },
  {
   "cell_type": "code",
   "execution_count": 35,
   "id": "228d37c0",
   "metadata": {},
   "outputs": [
    {
     "name": "stdout",
     "output_type": "stream",
     "text": [
      "Imprimir relatório completo\n"
     ]
    }
   ],
   "source": [
    "if escolha.upper() == 'N':\n",
    "    print('INCLUSÃO')\n",
    "elif escolha.upper() == 'C':\n",
    "    print('CONSULTA')\n",
    "elif escolha.upper() == 'U':\n",
    "    print('USAR PRODUTO')\n",
    "elif escolha.upper() == 'D':\n",
    "    print('DELETAR PRODUTO')\n",
    "elif escolha.upper() == 'I':\n",
    "    print('Imprimir relatório completo')\n",
    "else:\n",
    "    print('Escolha inválida')"
   ]
  },
  {
   "cell_type": "code",
   "execution_count": 21,
   "id": "2a337e7c",
   "metadata": {},
   "outputs": [],
   "source": [
    "cursor.close()\n",
    "conexao.close()"
   ]
  },
  {
   "cell_type": "code",
   "execution_count": null,
   "id": "cf2676e0",
   "metadata": {},
   "outputs": [],
   "source": []
  }
 ],
 "metadata": {
  "kernelspec": {
   "display_name": "Python 3 (ipykernel)",
   "language": "python",
   "name": "python3"
  },
  "language_info": {
   "codemirror_mode": {
    "name": "ipython",
    "version": 3
   },
   "file_extension": ".py",
   "mimetype": "text/x-python",
   "name": "python",
   "nbconvert_exporter": "python",
   "pygments_lexer": "ipython3",
   "version": "3.9.13"
  }
 },
 "nbformat": 4,
 "nbformat_minor": 5
}
