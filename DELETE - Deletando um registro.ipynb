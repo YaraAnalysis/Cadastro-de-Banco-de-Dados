{
 "cells": [
  {
   "cell_type": "code",
   "execution_count": 1,
   "id": "b2b88d05",
   "metadata": {},
   "outputs": [
    {
     "name": "stdout",
     "output_type": "stream",
     "text": [
      "Qual produto gostaria de excluir? pote sobremesa\n",
      "Produto pote sobremesa foi excluído com sucesso.\n"
     ]
    }
   ],
   "source": [
    "#DELETE - Deletando um registro no estoque\n",
    "import pyodbc\n",
    "import pandas as pd\n",
    "\n",
    "dados_conexao = (\"Driver={SQLite3 ODBC Driver};Server=localhost;Database=Estoque.db\")\n",
    "\n",
    "conexao = pyodbc.connect(dados_conexao)\n",
    "\n",
    "cursor = conexao.cursor()\n",
    "\n",
    "produto = input('Qual produto gostaria de excluir? ')\n",
    "\n",
    "if len(produto) < 1:\n",
    "    print('Nome do produto inválido.')\n",
    "\n",
    "cursor.execute(f'''\n",
    "DELETE FROM Estoque \n",
    "WHERE Produto=\"{produto}\"\n",
    "''')\n",
    "\n",
    "cursor.commit()\n",
    "print(f'Produto {produto} foi excluído com sucesso.')\n",
    "\n",
    "cursor.close()\n",
    "conexao.close()"
   ]
  },
  {
   "cell_type": "code",
   "execution_count": null,
   "id": "11e64380",
   "metadata": {},
   "outputs": [],
   "source": []
  }
 ],
 "metadata": {
  "kernelspec": {
   "display_name": "Python 3 (ipykernel)",
   "language": "python",
   "name": "python3"
  },
  "language_info": {
   "codemirror_mode": {
    "name": "ipython",
    "version": 3
   },
   "file_extension": ".py",
   "mimetype": "text/x-python",
   "name": "python",
   "nbconvert_exporter": "python",
   "pygments_lexer": "ipython3",
   "version": "3.9.13"
  }
 },
 "nbformat": 4,
 "nbformat_minor": 5
}
