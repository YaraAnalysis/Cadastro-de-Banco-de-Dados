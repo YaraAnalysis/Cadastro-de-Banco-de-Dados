{
 "cells": [
  {
   "cell_type": "code",
   "execution_count": null,
   "id": "416edbe1",
   "metadata": {},
   "outputs": [],
   "source": [
    "#UPDATE - Atualizando um registro no estoque\n",
    "\n",
    "import pyodbc\n",
    "import pandas as pd\n",
    "\n",
    "dados_conexao = (\"Driver={SQLite3 ODBC Driver};Server=localhost;Database=Estoque.db\")\n",
    "\n",
    "conexao = pyodbc.connect(dados_conexao)\n",
    "\n",
    "cursor = conexao.cursor()\n",
    "\n",
    "produto = input('Qual produto gostaria de consumir? ')\n",
    "lote = input('Qual é o lote do produto? ')\n",
    "qtde = input('Qual a quantidade? ')\n",
    "\n",
    "#nova_qtde = Quantidade - qtde\n",
    "#print(nova_qtde)\n",
    "#print(produto, lote, qtde)\n",
    "\n",
    "if len(produto) < 1 or len(lote) < 1 or len(qtde) < 1:\n",
    "    print('Nome, quantidade e lote do produto inválido.')\n",
    "else:\n",
    "    pass\n",
    "\n",
    "cursor.execute(f'''\n",
    "UPDATE Estoque \n",
    "SET Quantidade=Quantidade-{qtde} \n",
    "WHERE Produto=\"{produto}\" AND Lote={lote}\n",
    "''')\n",
    "cursor.commit()\n",
    "print(f'Produto {produto} foi consumido em {qtde} unidades.')"
   ]
  },
  {
   "cell_type": "code",
   "execution_count": null,
   "id": "fe479450",
   "metadata": {},
   "outputs": [],
   "source": [
    "cursor.close()\n",
    "conexao.close()"
   ]
  }
 ],
 "metadata": {
  "kernelspec": {
   "display_name": "Python 3 (ipykernel)",
   "language": "python",
   "name": "python3"
  },
  "language_info": {
   "codemirror_mode": {
    "name": "ipython",
    "version": 3
   },
   "file_extension": ".py",
   "mimetype": "text/x-python",
   "name": "python",
   "nbconvert_exporter": "python",
   "pygments_lexer": "ipython3",
   "version": "3.9.13"
  }
 },
 "nbformat": 4,
 "nbformat_minor": 5
}
