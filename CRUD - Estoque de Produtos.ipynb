{
 "cells": [
  {
   "cell_type": "code",
   "execution_count": 3,
   "id": "9451c717",
   "metadata": {},
   "outputs": [],
   "source": [
    "#pip install import-ipynb"
   ]
  },
  {
   "cell_type": "code",
   "execution_count": 26,
   "id": "0692165e",
   "metadata": {},
   "outputs": [
    {
     "name": "stdout",
     "output_type": "stream",
     "text": [
      "O que deseja fazer?\n",
      "N - NOVO produto\n",
      "C - CONSULTAR produto no estoque\n",
      "U - USAR algum produto do estoque\n",
      "D - DELETAR um produto do estoque\n",
      "I - IMPRIMIR relatório do estoque\n",
      "i\n",
      "Imprimir relatório completo\n"
     ]
    },
    {
     "ename": "AttributeError",
     "evalue": "module 'IMPRIMIR' has no attribute 'tabela_estoque'",
     "output_type": "error",
     "traceback": [
      "\u001b[1;31m---------------------------------------------------------------------------\u001b[0m",
      "\u001b[1;31mAttributeError\u001b[0m                            Traceback (most recent call last)",
      "\u001b[1;32m~\\AppData\\Local\\Temp\\ipykernel_1628\\2930113009.py\u001b[0m in \u001b[0;36m<module>\u001b[1;34m\u001b[0m\n\u001b[0;32m     22\u001b[0m     \u001b[1;31m#IMPRIMIR.relatorio()\u001b[0m\u001b[1;33m\u001b[0m\u001b[1;33m\u001b[0m\u001b[0m\n\u001b[0;32m     23\u001b[0m     \u001b[1;31m#from IMPRIMIR import relatorio, tabela_estoque\u001b[0m\u001b[1;33m\u001b[0m\u001b[1;33m\u001b[0m\u001b[0m\n\u001b[1;32m---> 24\u001b[1;33m     \u001b[0mIMPRIMIR\u001b[0m\u001b[1;33m.\u001b[0m\u001b[0mtabela_estoque\u001b[0m\u001b[1;33m\u001b[0m\u001b[1;33m\u001b[0m\u001b[0m\n\u001b[0m\u001b[0;32m     25\u001b[0m     \u001b[0mdisplay\u001b[0m\u001b[1;33m(\u001b[0m\u001b[0mtabela_estoque\u001b[0m\u001b[1;33m)\u001b[0m\u001b[1;33m\u001b[0m\u001b[1;33m\u001b[0m\u001b[0m\n\u001b[0;32m     26\u001b[0m     \u001b[1;31m#print(relatorio())\u001b[0m\u001b[1;33m\u001b[0m\u001b[1;33m\u001b[0m\u001b[0m\n",
      "\u001b[1;31mAttributeError\u001b[0m: module 'IMPRIMIR' has no attribute 'tabela_estoque'"
     ]
    }
   ],
   "source": [
    "import pyodbc\n",
    "import pandas as pd\n",
    "import import_ipynb\n",
    "import IMPRIMIR\n",
    "\n",
    "dados_conexao = (\"Driver={SQLite3 ODBC Driver};Server=localhost;Database=Estoque.db\")\n",
    "conexao = pyodbc.connect(dados_conexao)\n",
    "cursor = conexao.cursor()\n",
    "\n",
    "escolha = input(f'O que deseja fazer?\\nN - NOVO produto\\nC - CONSULTAR produto no estoque\\nU - USAR algum produto do estoque\\nD - DELETAR um produto do estoque\\nI - IMPRIMIR relatório do estoque\\n')\n",
    "\n",
    "if escolha.upper() == 'N':\n",
    "    print('INCLUSÃO')\n",
    "elif escolha.upper() == 'C':\n",
    "    print('CONSULTA')\n",
    "elif escolha.upper() == 'U':\n",
    "    print('USAR PRODUTO')\n",
    "elif escolha.upper() == 'D':\n",
    "    print('DELETAR PRODUTO')\n",
    "elif escolha.upper() == 'I':\n",
    "    print('Imprimir relatório completo')\n",
    "    #IMPRIMIR.relatorio()\n",
    "    #from IMPRIMIR import relatorio, tabela_estoque\n",
    "    IMPRIMIR.tabela_estoque\n",
    "    display(tabela_estoque)\n",
    "    #print(relatorio())\n",
    "else:\n",
    "    print('Escolha inválida')\n",
    "\n",
    "cursor.close()\n",
    "conexao.close()"
   ]
  },
  {
   "cell_type": "code",
   "execution_count": null,
   "id": "bdb983c0",
   "metadata": {},
   "outputs": [],
   "source": []
  },
  {
   "cell_type": "code",
   "execution_count": null,
   "id": "94f01335",
   "metadata": {},
   "outputs": [],
   "source": []
  }
 ],
 "metadata": {
  "kernelspec": {
   "display_name": "Python 3 (ipykernel)",
   "language": "python",
   "name": "python3"
  },
  "language_info": {
   "codemirror_mode": {
    "name": "ipython",
    "version": 3
   },
   "file_extension": ".py",
   "mimetype": "text/x-python",
   "name": "python",
   "nbconvert_exporter": "python",
   "pygments_lexer": "ipython3",
   "version": "3.9.13"
  }
 },
 "nbformat": 4,
 "nbformat_minor": 5
}
